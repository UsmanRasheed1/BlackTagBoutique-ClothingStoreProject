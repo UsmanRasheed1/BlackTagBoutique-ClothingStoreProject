{
 "cells": [
  {
   "cell_type": "code",
   "execution_count": 1,
   "id": "40af40a9",
   "metadata": {},
   "outputs": [
    {
     "name": "stderr",
     "output_type": "stream",
     "text": [
      "D:\\Anaconda\\Lib\\site-packages\\transformers\\utils\\generic.py:260: FutureWarning: `torch.utils._pytree._register_pytree_node` is deprecated. Please use `torch.utils._pytree.register_pytree_node` instead.\n",
      "  torch.utils._pytree._register_pytree_node(\n",
      "D:\\Anaconda\\Lib\\site-packages\\transformers\\modeling_utils.py:479: FutureWarning: You are using `torch.load` with `weights_only=False` (the current default value), which uses the default pickle module implicitly. It is possible to construct malicious pickle data which will execute arbitrary code during unpickling (See https://github.com/pytorch/pytorch/blob/main/SECURITY.md#untrusted-models for more details). In a future release, the default value for `weights_only` will be flipped to `True`. This limits the functions that could be executed during unpickling. Arbitrary objects will no longer be allowed to be loaded via this mode unless they are explicitly allowlisted by the user via `torch.serialization.add_safe_globals`. We recommend you start setting `weights_only=True` for any use case where you don't have full control of the loaded file. Please open an issue on GitHub for any issues related to this experimental feature.\n",
      "  return torch.load(checkpoint_file, map_location=map_location)\n"
     ]
    }
   ],
   "source": [
    "from transformers import AutoTokenizer, AutoModelForSequenceClassification\n",
    "import torch\n",
    "import torch.nn.functional as F\n",
    "\n",
    "# Load model and tokenizer\n",
    "model_name = \"cardiffnlp/twitter-roberta-base-sentiment\"\n",
    "tokenizer = AutoTokenizer.from_pretrained(model_name)\n",
    "model = AutoModelForSequenceClassification.from_pretrained(model_name)"
   ]
  },
  {
   "cell_type": "code",
   "execution_count": 39,
   "id": "2fe6bd36",
   "metadata": {},
   "outputs": [
    {
     "name": "stdout",
     "output_type": "stream",
     "text": [
      "Positive\n",
      "Positive\n",
      "Negative\n",
      "Neutral\n"
     ]
    }
   ],
   "source": [
    "# Label mapping\n",
    "label_map = {\n",
    "    0: \"Negative\",\n",
    "    1: \"Neutral\",\n",
    "    2: \"Positive\"\n",
    "}\n",
    "\n",
    "def classify_roberta_sentiment(text):\n",
    "    # Tokenize the input\n",
    "    encoded_input = tokenizer(text, return_tensors='pt')\n",
    "    \n",
    "    with torch.no_grad():\n",
    "        logits = model(**encoded_input).logits\n",
    "\n",
    "    probs = F.softmax(logits, dim=1)[0]\n",
    "\n",
    "    # Apply custom neutral threshold\n",
    "    neutral_score = probs[1].item()\n",
    "    negative_score = probs[0].item()\n",
    "    positive_score = probs[2].item()\n",
    "    if neutral_score > 0.3 or (negative_score < 0.49 and positive_score < 0.49):\n",
    "        sentiment = \"Neutral\"\n",
    "    else:\n",
    "        # Pick between positive and negative\n",
    "        top_label = torch.argmax(probs).item()\n",
    "        sentiment = label_map[top_label] if top_label != 1 else \"Neutral\"  # Safety check\n",
    "\n",
    "#     return {\n",
    "#         \"sentiment\": sentiment,\n",
    "#         \"all_scores\": {\n",
    "#             \"Negative\": round(probs[0].item(), 3),\n",
    "#             \"Neutral\": round(probs[1].item(), 3),\n",
    "#             \"Positive\": round(probs[2].item(), 3)\n",
    "#         }\n",
    "#     }\n",
    "\n",
    "    return sentiment\n",
    "\n",
    "print(classify_roberta_sentiment(\"I like this shirt\"))\n",
    "print(classify_roberta_sentiment(\"It was ok\"))\n",
    "print(classify_roberta_sentiment(\"This is terrible.\"))\n",
    "print(classify_roberta_sentiment(\"Delivery was late, but clothes were comfortable\"))\n"
   ]
  },
  {
   "cell_type": "code",
   "execution_count": null,
   "id": "ecc31f52",
   "metadata": {},
   "outputs": [
    {
     "name": "stdout",
     "output_type": "stream",
     "text": [
      " * Serving Flask app '__main__'\n",
      " * Debug mode: off\n"
     ]
    },
    {
     "name": "stderr",
     "output_type": "stream",
     "text": [
      "WARNING: This is a development server. Do not use it in a production deployment. Use a production WSGI server instead.\n",
      " * Running on http://127.0.0.1:1212\n",
      "Press CTRL+C to quit\n",
      "127.0.0.1 - - [16/May/2025 16:58:53] \"POST /analyze HTTP/1.1\" 200 -\n",
      "127.0.0.1 - - [16/May/2025 16:59:08] \"POST /analyze HTTP/1.1\" 200 -\n",
      "127.0.0.1 - - [16/May/2025 16:59:36] \"POST /analyze HTTP/1.1\" 200 -\n"
     ]
    }
   ],
   "source": [
    "from flask import Flask, request, jsonify\n",
    "\n",
    "app = Flask(__name__)\n",
    "\n",
    "@app.route('/analyze', methods=['POST'])\n",
    "def analyze_sentiment():\n",
    "    # Get the message from the incoming request\n",
    "    data = request.get_json()\n",
    "    message = data.get(\"message\", \"\")\n",
    "    if not message:\n",
    "        return jsonify({\"error\": \"No 'message' provided.\"}), 400\n",
    "\n",
    "    # Call the sentiment analysis function\n",
    "    sentiment = classify_roberta_sentiment(message)\n",
    "    \n",
    "    # Return the sentiment as a response\n",
    "    return jsonify({\"sentiment\": sentiment})\n",
    "\n",
    "if __name__ == \"__main__\":\n",
    "    app.run(port=1212)  \n"
   ]
  }
 ],
 "metadata": {
  "kernelspec": {
   "display_name": "Python 3 (ipykernel)",
   "language": "python",
   "name": "python3"
  },
  "language_info": {
   "codemirror_mode": {
    "name": "ipython",
    "version": 3
   },
   "file_extension": ".py",
   "mimetype": "text/x-python",
   "name": "python",
   "nbconvert_exporter": "python",
   "pygments_lexer": "ipython3",
   "version": "3.11.5"
  }
 },
 "nbformat": 4,
 "nbformat_minor": 5
}
